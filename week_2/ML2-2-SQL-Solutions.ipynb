{
 "cells": [
  {
   "cell_type": "markdown",
   "metadata": {
    "colab_type": "text",
    "id": "ljiunBcKlJSQ"
   },
   "source": [
    "![](https://i.imgur.com/0AUxkXt.png)"
   ]
  },
  {
   "cell_type": "markdown",
   "metadata": {
    "colab_type": "text",
    "id": "PgjLTSR7lEqz"
   },
   "source": [
    "# MLE - SQL Exercise"
   ]
  },
  {
   "cell_type": "markdown",
   "metadata": {
    "colab_type": "text",
    "id": "O1P87Ntw_1Xr"
   },
   "source": [
    "SQL, or Structured Query Language, is a language designed to allow both technical and non-technical users query, manipulate, and transform data from a **relational database**. And due to its simplicity, SQL databases provide safe and scalable storage for millions of websites and mobile applications.\n",
    "\n",
    "A relational database represents a collection of related (two-dimensional) tables. Each of the tables are similar to an Excel spreadsheet, with a fixed number of named columns (the attributes or properties of the table) and any number of rows of data.\n",
    "\n",
    "For example, if the Department of Motor Vehicles had a database, you might find a table containing all the known vehicles that people in the state are driving. This table might need to store the model name, type, number of wheels, and number of doors of each vehicle for example.\n",
    "\n",
    "| Id | Make/Model | # Wheels | # Door | Type |\n",
    "|:---:|:----------------------------:|:---------------:|:-----------:|:--------:|\n",
    "| 1 | Ford Focus | 4 | 4 | Sedan |\n",
    "| 2 | Tesla Roadster | 4 | 2 | Sports |\n",
    "| 3 | Kawakasi Ninja | 2 | 0 | Motorcycle |\n",
    "| 4 | McLaren Formula 1 | 4 | 0 | Race |\n",
    "| 5 | Testla S | 4 | 4 | Sedan |\n",
    "\n",
    "In such a database, you might find additional related tables containing information such as a list of all registered drivers in the state, the types of driving licenses that can be granted, or even driving violations for each driver.\n",
    "\n",
    "By learning SQL, the goal is to learn how to answer specific questions about this data, like *\"What types of vehicles are on the road have less than four wheels?\"*, or *\"How many models of cars does Tesla produce?\"*, to help us make better decisions down the road.\n",
    "\n"
   ]
  },
  {
   "cell_type": "markdown",
   "metadata": {
    "colab_type": "text",
    "id": "UFhsNsY2J1jz"
   },
   "source": [
    "### Connect to the database\n",
    "\n",
    "![](https://i.imgur.com/kCaiMK5.png)"
   ]
  },
  {
   "cell_type": "markdown",
   "metadata": {
    "colab_type": "text",
    "id": "2tI-PoQZMKax"
   },
   "source": [
    "**Run those cells below**"
   ]
  },
  {
   "cell_type": "code",
   "execution_count": null,
   "metadata": {
    "colab": {},
    "colab_type": "code",
    "id": "NUcv2WLJKEkY"
   },
   "outputs": [],
   "source": [
    "import sqlite3\n",
    "conn = sqlite3.connect('../data/chinook.db')"
   ]
  },
  {
   "cell_type": "code",
   "execution_count": null,
   "metadata": {
    "colab": {
     "base_uri": "https://localhost:8080/",
     "height": 198
    },
    "colab_type": "code",
    "id": "3EfkG2icKYAc",
    "outputId": "002539f8-e3ef-4952-b643-724cd2aaaf17"
   },
   "outputs": [],
   "source": [
    "import pandas as pd\n",
    "data = pd.read_sql_query('SELECT * FROM albums;', conn)\n",
    "data.head() "
   ]
  },
  {
   "cell_type": "markdown",
   "metadata": {
    "colab_type": "text",
    "id": "ipg0wfIqK5E0"
   },
   "source": [
    "### Write your first query\n",
    "\n",
    "Given a table of data, the most basic query we could write would be one that selects for a couple columns (properties) of the table with all the rows (instances).\n",
    "\n",
    "```SQL\n",
    "SELECT column, another_column, …\n",
    "FROM mytable;\n",
    "```\n",
    "If we want to retrieve absolutely all the columns of data from a table, we can then use the asterisk (*) shorthand in place of listing all the column names individually.\n",
    "```SQL\n",
    "SELECT * \n",
    "FROM mytable;\n",
    "```"
   ]
  },
  {
   "cell_type": "code",
   "execution_count": null,
   "metadata": {
    "colab": {
     "base_uri": "https://localhost:8080/",
     "height": 288
    },
    "colab_type": "code",
    "id": "_q7mJSSQKvnO",
    "outputId": "3551ad6f-dca4-42db-b434-73327d829702"
   },
   "outputs": [],
   "source": [
    "# Replace ___ with a query that list all the employees first name and last name\n",
    "\n",
    "pd.read_sql_query('SELECT FirstName, LastName FROM employees;', conn)"
   ]
  },
  {
   "cell_type": "code",
   "execution_count": null,
   "metadata": {
    "colab": {
     "base_uri": "https://localhost:8080/",
     "height": 288
    },
    "colab_type": "code",
    "id": "XAcY7HMgL2jl",
    "outputId": "b155903f-9a92-4194-b938-9920db144eac"
   },
   "outputs": [],
   "source": [
    "# Find the title of each employee\n",
    "\n",
    "pd.read_sql_query('SELECT Title FROM employees;', conn)"
   ]
  },
  {
   "cell_type": "code",
   "execution_count": null,
   "metadata": {
    "colab": {
     "base_uri": "https://localhost:8080/",
     "height": 35
    },
    "colab_type": "code",
    "id": "dWDgWyoKNRzt",
    "outputId": "e11aca0e-402b-4b36-a84f-6d1316134877"
   },
   "outputs": [],
   "source": [
    "# Find the name of each artist\n",
    "# Print out how many artist are there in the database\n",
    "\n",
    "pd.read_sql_query('SELECT Name FROM artists;', conn)\n",
    "print('There are 275 artists.')"
   ]
  },
  {
   "cell_type": "markdown",
   "metadata": {
    "colab_type": "text",
    "id": "v67JJSGxVDAL"
   },
   "source": [
    "### Queries with contraints\n",
    "\n",
    "In order to filter certain results, we need to use a **WHERE** clause in the query.\n",
    "```\n",
    "SELECT column, another_column, ...\n",
    "FROM mytable\n",
    "WHERE conditions\n",
    "    AND/OR another_condition\n",
    "    AND/OR ...;\n",
    "```\n",
    "\n",
    "Below are some useful operators that you can use for numerical data (ie. integer or floating point)\n",
    "\n",
    "| Operator | Condition | SQL Example |\n",
    "|:--------------:|:---------------:|:----------------------:|\n",
    "| =, !=, < <=, >, >= | Standard numerical operators\t| col_name != 4 |\n",
    "| **BETWEEN** … **AND** …\t| Number is within range of two values (inclusive) |\tcol_name **BETWEEN** 1.5 **AND** 10.5 |\n",
    "| **NOT BETWEEN** … **AND** …\t| Number is not within range of two values (inclusive) |\tcol_name **NOT BETWEEN** 1 **AND** 10 |\n",
    "| **IN** (…)\t| Number exists in a list\t| col_name **IN** (2, 4, 6) |\n",
    "| **NOT IN** (…) |\tNumber does not exist in a list |\tcol_name **NOT IN** (1, 3, 5) |\n",
    "\n",
    "When writing WHERE clauses with columns containing text data, SQL supports a number of useful operators to do things like case-insensitive string comparison and wildcard pattern matching. Below is a few common text-data specific operators:\n",
    "\n",
    "| Operator | Condition | SQL Example |\n",
    "|:--------------:|:---------------:|:----------------------:|\n",
    "| = |\tCase sensitive exact string comparison (notice the single equals) |\tcol_name = \"abc\" |\n",
    "| != or <>\t| Case sensitive exact string inequality comparison\t| col_name != \"abcd\" |\n",
    "| **LIKE**\t| Case insensitive exact string comparison\t| col_name **LIKE** \"ABC\" |\n",
    "| **NOT LIKE**\t| Case insensitive exact string inequality comparison\t| col_name **NOT LIKE** \"ABCD\" |\n",
    "| %\t| Used anywhere in a string to match a sequence of zero or more characters (only with **LIKE** or **NOT LIKE**)\t| col_name **LIKE** \"%AT%\" (matches \"AT\", \"ATTIC\", \"CAT\" or even \"BATS\") |\n",
    "| _\t| Used anywhere in a string to match a single character (only with **LIKE** or **NOT LIKE**)\t| col_name **LIKE** \"AN_\" (matches \"AND\", but not \"AN\") |\n",
    "| **IN** (…) | String exists in a list\t| col_name **IN** (\"A\", \"B\", \"C\") |\n",
    "| **NOT IN** (…) | String does not exist in a list\t| col_name **NOT IN** (\"D\", \"E\", \"F\") |\n",
    "\n"
   ]
  },
  {
   "cell_type": "code",
   "execution_count": null,
   "metadata": {
    "colab": {
     "base_uri": "https://localhost:8080/",
     "height": 285
    },
    "colab_type": "code",
    "id": "7LECn9puNrJF",
    "outputId": "cb71a307-4059-4585-a734-841c91be0214"
   },
   "outputs": [],
   "source": [
    "pd.read_sql_query('SELECT * FROM invoices;',conn).head()"
   ]
  },
  {
   "cell_type": "code",
   "execution_count": null,
   "metadata": {
    "colab": {
     "base_uri": "https://localhost:8080/",
     "height": 1698
    },
    "colab_type": "code",
    "id": "PhfGraMbYUw4",
    "outputId": "c60aed97-efb9-4e99-ecdf-6ece9403a920"
   },
   "outputs": [],
   "source": [
    "# Find all $1 bill or lower\n",
    "pd.read_sql_query('SELECT Total FROM invoices WHERE Total <= 1;',conn)"
   ]
  },
  {
   "cell_type": "code",
   "execution_count": null,
   "metadata": {
    "colab": {
     "base_uri": "https://localhost:8080/",
     "height": 3015
    },
    "colab_type": "code",
    "id": "5qk1B3Lta_uC",
    "outputId": "65d1003b-1856-4e67-dfc6-56920abd3c9b"
   },
   "outputs": [],
   "source": [
    "# Find all invoice of customers who are in the USA or Canada\n",
    "pd.read_sql_query('SELECT * FROM invoices WHERE BillingCountry IN (\"USA\", \"Canada\");',conn)"
   ]
  },
  {
   "cell_type": "code",
   "execution_count": null,
   "metadata": {
    "colab": {
     "base_uri": "https://localhost:8080/",
     "height": 2944
    },
    "colab_type": "code",
    "id": "QQEkwmCKdnvs",
    "outputId": "9b986b4f-084d-4fef-f5b5-d249d6384516"
   },
   "outputs": [],
   "source": [
    "# Find all invoice in 2011\n",
    "# pd.read_sql_query('SELECT * FROM invoices WHERE InvoiceDate LIKE \"2011%\"',conn)\n",
    "pd.read_sql_query('SELECT * FROM invoices WHERE InvoiceDate BETWEEN \"2011-01-01\" AND \"2012-01-01\";',conn)"
   ]
  },
  {
   "cell_type": "markdown",
   "metadata": {
    "colab_type": "text",
    "id": "qvMvKof-eCSF"
   },
   "source": [
    "### Filtering and Sorting query results\n",
    "\n",
    "SQL provides a convenient way to discard rows that have a duplicate column value by using the **DISTINCT** keyword:\n",
    "\n",
    "```\n",
    "SELECT DISTINCT column, another_column, …\n",
    "FROM mytable\n",
    "WHERE condition(s);\n",
    "```\n",
    "\n",
    "SQL provides a way to sort your results by a given column in ascending or descending order using the **ORDER BY** clause:\n",
    "\n",
    "```\n",
    "SELECT column, another_column, …\n",
    "FROM mytable\n",
    "WHERE condition(s)\n",
    "ORDER BY column ASC/DESC;\n",
    "```\n",
    "\n",
    "Another clause which is commonly used with the **ORDER BY** clause are the **LIMIT** and **OFFSET** clauses, which are a useful optimization to indicate to the database the subset of the results you care about.\n",
    "The **LIMIT** will reduce the number of rows to return, and the optional **OFFSET** will specify where to begin counting the number rows from.\n",
    "\n",
    "```\n",
    "SELECT column, another_column, …\n",
    "FROM mytable\n",
    "WHERE condition(s)\n",
    "ORDER BY column ASC/DESC\n",
    "LIMIT num_limit OFFSET num_offset;\n",
    "```"
   ]
  },
  {
   "cell_type": "code",
   "execution_count": null,
   "metadata": {
    "colab": {
     "base_uri": "https://localhost:8080/",
     "height": 768
    },
    "colab_type": "code",
    "id": "BeSMm0_hiJ-M",
    "outputId": "07460d54-f5b2-4b06-e821-61b104f024bc"
   },
   "outputs": [],
   "source": [
    "# Find a list of all countries where customers live in\n",
    "pd.read_sql_query('SELECT DISTINCT Country FROM customers;',conn)"
   ]
  },
  {
   "cell_type": "code",
   "execution_count": null,
   "metadata": {
    "colab": {
     "base_uri": "https://localhost:8080/",
     "height": 198
    },
    "colab_type": "code",
    "id": "dfXBBG4Id10d",
    "outputId": "ce61dd9e-ba7e-4d4e-c1a2-bafbfc42ff04"
   },
   "outputs": [],
   "source": [
    "# Find the top 5 cheapest bill\n",
    "pd.read_sql_query('SELECT * FROM invoices ORDER BY Total ASC LIMIT 5;',conn)\n",
    "\n",
    "# Find the top most cheapest bill\n",
    "# pd.read_sql_query('SELECT * FROM invoices WHERE Total=(SELECT MIN(Total) FROM invoices);',conn)"
   ]
  },
  {
   "cell_type": "code",
   "execution_count": null,
   "metadata": {
    "colab": {
     "base_uri": "https://localhost:8080/",
     "height": 339
    },
    "colab_type": "code",
    "id": "0vdzbsP6fRoX",
    "outputId": "c46339b3-e41f-4fbc-9507-583e38480734"
   },
   "outputs": [],
   "source": [
    "# Find the last 5 invoice\n",
    "pd.read_sql_query('SELECT * FROM invoices ORDER BY InvoiceDate DESC LIMIT 5;',conn)"
   ]
  },
  {
   "cell_type": "code",
   "execution_count": null,
   "metadata": {
    "colab": {
     "base_uri": "https://localhost:8080/",
     "height": 305
    },
    "colab_type": "code",
    "id": "4VfbsutBfSQg",
    "outputId": "2cee55c5-876a-4e00-deec-f6db96ae05c6"
   },
   "outputs": [],
   "source": [
    "# Find the next five invoice \n",
    "pd.read_sql_query('SELECT * FROM invoices ORDER BY InvoiceDate DESC LIMIT 5 OFFSET 5;',conn)"
   ]
  },
  {
   "cell_type": "markdown",
   "metadata": {
    "colab_type": "text",
    "id": "fwzu4_qxhqkC"
   },
   "source": [
    "### Practice simple SELECT query\n",
    "\n",
    "You've done a good job getting to this point! Let's practice writing query that use all keywords we've learned so far."
   ]
  },
  {
   "cell_type": "code",
   "execution_count": null,
   "metadata": {
    "colab": {
     "base_uri": "https://localhost:8080/",
     "height": 138
    },
    "colab_type": "code",
    "id": "goGvMHl9j3LW",
    "outputId": "2c05edaa-74aa-44b1-eca9-af8278e8174e"
   },
   "outputs": [],
   "source": [
    "# List all cities in Germany where the company has customers\n",
    "pd.read_sql_query('SELECT DISTINCT City FROM customers WHERE Country=\"Germany\";', conn)"
   ]
  },
  {
   "cell_type": "code",
   "execution_count": null,
   "metadata": {
    "colab": {
     "base_uri": "https://localhost:8080/",
     "height": 1132
    },
    "colab_type": "code",
    "id": "Dx1W_6Pskj0y",
    "outputId": "8d7ef46b-e605-4e86-bee9-f7af0aa78a3c"
   },
   "outputs": [],
   "source": [
    "# Order all customers in the USA by their first name\n",
    "pd.read_sql_query('SELECT * FROM customers WHERE Country=\"USA\" ORDER BY FirstName;', conn)"
   ]
  },
  {
   "cell_type": "code",
   "execution_count": null,
   "metadata": {
    "colab": {
     "base_uri": "https://localhost:8080/",
     "height": 138
    },
    "colab_type": "code",
    "id": "S91_frJ0hTMm",
    "outputId": "16ca7c04-234b-46e9-996e-a0c2ada54125"
   },
   "outputs": [],
   "source": [
    "# List three most expensive bill in Boston, USA\n",
    "pd.read_sql_query('SELECT * FROM invoices WHERE (BillingCity=\"Boston\") AND (BillingCountry=\"USA\") ORDER BY Total DESC LIMIT 3;', conn)"
   ]
  },
  {
   "cell_type": "code",
   "execution_count": null,
   "metadata": {
    "colab": {
     "base_uri": "https://localhost:8080/",
     "height": 108
    },
    "colab_type": "code",
    "id": "P4C0oAIEhbcA",
    "outputId": "c24aaefa-8e5d-4a6f-a8d5-e5761fb6cac1"
   },
   "outputs": [],
   "source": [
    "# List the third and fourth most expensive bill in 2012\n",
    "pd.read_sql_query('SELECT * FROM invoices WHERE InvoiceDate LIKE \"2012%\" ORDER BY Total DESC LIMIT 2 OFFSET 2;', conn)"
   ]
  },
  {
   "cell_type": "markdown",
   "metadata": {
    "colab_type": "text",
    "id": "E4tKvuDmh3DF"
   },
   "source": [
    "### Multi-table queries with JOINs\n",
    "\n",
    "Up to now, we've been working with a single table, but entity data in the real world is often broken down into pieces and stored across multiple tables.\n",
    "\n",
    "Tables that share information about a single entity need to have a **primary key** that identifies that entity **uniquely** across the database. One common primary key type is an auto-incrementing integer (because they are space efficient), but it can also be a string, hashed value, so long as it is unique.\n",
    "\n",
    "Using the **JOIN** clause in a query, we can combine row data across two separate tables using this unique key. The first of the joins that we will introduce is the **INNER JOIN**.\n",
    "\n",
    "The **INNER JOIN** is a process that matches rows from the first table and the second table which have the same key (as defined by the **ON** constraint) to create a result row with the combined columns from both tables.\n",
    "\n",
    "```\n",
    "SELECT column, another_table_column, …\n",
    "FROM mytable\n",
    "INNER JOIN another_table \n",
    "    ON mytable.id = another_table.id\n",
    "WHERE condition(s)\n",
    "ORDER BY column, … ASC/DESC\n",
    "LIMIT num_limit OFFSET num_offset;\n",
    "```\n",
    "\n",
    "**Example:**"
   ]
  },
  {
   "cell_type": "code",
   "execution_count": null,
   "metadata": {
    "colab": {
     "base_uri": "https://localhost:8080/",
     "height": 198
    },
    "colab_type": "code",
    "id": "m8PhTMBoirIB",
    "outputId": "1a756cf1-c297-43d4-c045-2fd6ba856063"
   },
   "outputs": [],
   "source": [
    "# First five rows in table albums\n",
    "pd.read_sql_query('SELECT * FROM albums LIMIT 5;', conn)"
   ]
  },
  {
   "cell_type": "code",
   "execution_count": null,
   "metadata": {
    "colab": {
     "base_uri": "https://localhost:8080/",
     "height": 198
    },
    "colab_type": "code",
    "id": "_etMVaOEi37T",
    "outputId": "72973ef4-721b-4b85-c198-ab572e90f455"
   },
   "outputs": [],
   "source": [
    "# First five row in table artists\n",
    "pd.read_sql_query('SELECT * FROM artists LIMIT 5;', conn)"
   ]
  },
  {
   "cell_type": "code",
   "execution_count": null,
   "metadata": {
    "colab": {
     "base_uri": "https://localhost:8080/",
     "height": 78
    },
    "colab_type": "code",
    "id": "QeH5I9ApjA82",
    "outputId": "7d9315e2-fc54-4440-8f5f-f4edadb48eb8"
   },
   "outputs": [],
   "source": [
    "# Find the albums of Aerosmith\n",
    "pd.read_sql_query('''\n",
    "    SELECT * \n",
    "    FROM albums INNER JOIN artists ON albums.ArtistId = artists.ArtistId \n",
    "    WHERE artists.name=\"Aerosmith\";\n",
    "''', conn)"
   ]
  },
  {
   "cell_type": "markdown",
   "metadata": {
    "colab_type": "text",
    "id": "HJhMbP4FlAbe"
   },
   "source": [
    "**Your turn**"
   ]
  },
  {
   "cell_type": "code",
   "execution_count": null,
   "metadata": {
    "colab": {
     "base_uri": "https://localhost:8080/",
     "height": 348
    },
    "colab_type": "code",
    "id": "1ZtteUICuoCZ",
    "outputId": "4f49ee45-aaeb-4248-8c12-5289eca0a060"
   },
   "outputs": [],
   "source": [
    "# List first 10 tracks and its album's title order by track's name\n",
    "pd.read_sql_query('''\n",
    "    SELECT tracks.Name, albums.Title \n",
    "    FROM tracks JOIN albums ON tracks.AlbumId=albums.AlbumId\n",
    "    ORDER BY tracks.name \n",
    "    LIMIT 10;\n",
    "''', conn)"
   ]
  },
  {
   "cell_type": "code",
   "execution_count": null,
   "metadata": {
    "colab": {
     "base_uri": "https://localhost:8080/",
     "height": 258
    },
    "colab_type": "code",
    "id": "jfV3sLSCvun6",
    "outputId": "3c85d649-e301-4408-bbd8-161cd50ba970"
   },
   "outputs": [],
   "source": [
    "# List all employees and who they report to\n",
    "pd.read_sql_query('''\n",
    "  SELECT e1.FirstName,e1.Title, e2.Firstname, e2.Title AS Supervisor \n",
    "  FROM employees AS e1 \n",
    "      JOIN employees AS e2 ON e1.ReportsTo=e2.EmployeeId;\n",
    "''', conn)"
   ]
  },
  {
   "cell_type": "code",
   "execution_count": null,
   "metadata": {
    "colab": {
     "base_uri": "https://localhost:8080/",
     "height": 198
    },
    "colab_type": "code",
    "id": "tL_UWgYYj55T",
    "outputId": "a687cdfb-52aa-46a2-bd61-d05d173a4540"
   },
   "outputs": [],
   "source": [
    "# List the first five customers order by their supporter's first name in descending order\n",
    "pd.read_sql_query('''\n",
    "    SELECT c.FirstName AS Customer, e.FirstName as Supporter \n",
    "    FROM customers AS c \n",
    "        JOIN employees AS e ON c.SupportRepId=e.EmployeeId\n",
    "    ORDER BY e.FirstName DESC \n",
    "    LIMIT 5;\n",
    "''', conn)"
   ]
  },
  {
   "cell_type": "markdown",
   "metadata": {
    "colab_type": "text",
    "id": "6MAT_K1DzWlZ"
   },
   "source": [
    "### OUTER JOINS\n",
    "\n",
    "Depending on how you want to analyze the data, the INNER JOIN we used last lesson might not be sufficient because the resulting table only contains data that belongs in both of the tables.\n",
    "\n",
    "If the two tables have asymmetric data, which can easily happen when data is entered in different stages, then we would have to use a LEFT JOIN, RIGHT JOIN or FULL JOIN instead to ensure that the data you need is not left out of the results.\n",
    "\n",
    "```\n",
    "SELECT column, another_column, …\n",
    "FROM mytable\n",
    "INNER/LEFT/RIGHT/FULL JOIN another_table \n",
    "    ON mytable.id = another_table.matching_id\n",
    "WHERE condition(s)\n",
    "ORDER BY column, … ASC/DESC\n",
    "LIMIT num_limit OFFSET num_offset;\n",
    "```\n",
    "\n",
    "Sometimes, it's not possible to avoid **NULL** values. In these case, you can test a column for **NULL** values in a WHERE clause by using either the **IS NULL** or **IS NOT NULL** constraint.\n",
    "\n",
    "```\n",
    "SELECT column, another_column, …\n",
    "FROM mytable\n",
    "WHERE column IS/IS NOT NULL\n",
    "AND/OR another_condition\n",
    "AND/OR …;\n",
    "```"
   ]
  },
  {
   "cell_type": "code",
   "execution_count": null,
   "metadata": {
    "colab": {
     "base_uri": "https://localhost:8080/",
     "height": 4484
    },
    "colab_type": "code",
    "id": "I4dCP1Bk31ch",
    "outputId": "c669717d-2e51-4f9f-b776-60decd09c148"
   },
   "outputs": [],
   "source": [
    "# Find all tracks that couldn't be sold (null invoice_items)\n",
    "pd.read_sql_query('''\n",
    "    SELECT * \n",
    "    FROM tracks AS t LEFT \n",
    "        JOIN invoice_items AS i \n",
    "        ON t.TrackId=i.TrackId\n",
    "    WHERE i.UnitPrice IS NULL;\n",
    "''', conn)"
   ]
  },
  {
   "cell_type": "code",
   "execution_count": null,
   "metadata": {
    "colab": {
     "base_uri": "https://localhost:8080/",
     "height": 1188
    },
    "colab_type": "code",
    "id": "4nNx4WjGuC8A",
    "outputId": "6041b04f-0124-4803-9047-1f530f6cec46"
   },
   "outputs": [],
   "source": [
    "# List all genres and the distinct media types in each genre\n",
    "pd.read_sql_query('''\n",
    "    SELECT DISTINCT g.name, md.name\n",
    "    FROM genres AS g \n",
    "        JOIN tracks AS t ON g.GenreId=t.GenreId\n",
    "        JOIN media_types AS md ON t.MediaTypeId = md.MediaTypeId;\n",
    "''', conn)"
   ]
  },
  {
   "cell_type": "markdown",
   "metadata": {
    "colab_type": "text",
    "id": "xVhmj5x_6xnk"
   },
   "source": [
    "### Queries with aggregates\n",
    "\n",
    "SQL also supports the use of aggregate expressions (or functions) that allow you to summarize information about a group of rows of data.\n",
    "\n",
    "Common aggregate functions:\n",
    "\n",
    "| Functions | Description |\n",
    "|:-:|:-:|\n",
    "|**COUNT**(*), **COUNT**(column) | A common function used to counts the number of rows in the group if no column name is specified. Otherwise, count the number of rows in the group with non-NULL values in the specified column.|\n",
    "|**MIN**(column) | Finds the smallest numerical value in the specified column for all rows in the group.|\n",
    "|**MAX**(column) | Finds the largest numerical value in the specified column for all rows in the group.|\n",
    "|**AVG**(column) | Finds the average numerical value in the specified column for all rows in the group.|\n",
    "|**SUM**(column) | Finds the sum of all numerical values in the specified column for the rows in the group.|\n",
    "\n",
    "More docs: [SQLite](http://www.sqlite.org/lang_aggfunc.html), [MySQL](https://dev.mysql.com/doc/refman/5.6/en/group-by-functions.html), [Postgres](http://www.postgresql.org/docs/9.4/static/functions-aggregate.html)\n",
    "\n",
    "In addition to aggregating across all the rows, you can instead apply the aggregate functions to individual groups of data within that group. This would then create as many results as there are unique groups defined as by the  **GROUP BY** clause.\n",
    "\n",
    "```\n",
    "SELECT AGG_FUNC(column_or_expression) AS aggregate_description, …\n",
    "FROM mytable\n",
    "WHERE constraint_expression\n",
    "GROUP BY column;\n",
    "```\n",
    "\n",
    "Our queries are getting fairly complex, but we have nearly introduced all the important parts of a  **SELECT** query. One thing that you might have noticed is that if the **GROUP BY** clause is executed after the **WHERE** clause (which filters the rows which are to be grouped), then how exactly do we filter the grouped rows?\n",
    "\n",
    "Luckily, SQL allows us to do this by adding an additional **HAVING** clause which is used specifically with the **GROUP BY** clause to allow us to filter grouped rows from the result set.\n",
    "\n",
    "```\n",
    "SELECT group_by_column, AGG_FUNC(column_expression) AS aggregate_result_alias, …\n",
    "FROM mytable\n",
    "WHERE condition\n",
    "GROUP BY column\n",
    "HAVING group_condition;\n",
    "```\n"
   ]
  },
  {
   "cell_type": "code",
   "execution_count": null,
   "metadata": {
    "colab": {
     "base_uri": "https://localhost:8080/",
     "height": 78
    },
    "colab_type": "code",
    "id": "z3QK3EepBI3H",
    "outputId": "ec5d26cb-8e9f-46e3-bdd0-4d519c96945f"
   },
   "outputs": [],
   "source": [
    "# Find the revenue of 2013\n",
    "pd.read_sql_query('''\n",
    "    SELECT SUM(Total) AS Revenue_2013 \n",
    "    FROM invoices \n",
    "    WHERE InvoiceDate LIKE \"2013%\";\n",
    "''', conn)"
   ]
  },
  {
   "cell_type": "code",
   "execution_count": null,
   "metadata": {
    "colab": {
     "base_uri": "https://localhost:8080/",
     "height": 78
    },
    "colab_type": "code",
    "id": "XnlVKXmt1lrb",
    "outputId": "fe147378-d99c-46ca-996a-41537b4ca3d2"
   },
   "outputs": [],
   "source": [
    "# Find the number of tracks belong to the genre Rock\n",
    "pd.read_sql_query('''\n",
    "    SELECT COUNT(t.TrackId) AS Rock_tracks\n",
    "    FROM tracks AS t \n",
    "        JOIN genres AS g ON t.GenreId=g.GenreId\n",
    "    GROUP BY g.GenreId\n",
    "    HAVING g.Name='Rock';           \n",
    "''', conn)"
   ]
  },
  {
   "cell_type": "code",
   "execution_count": null,
   "metadata": {
    "colab": {
     "base_uri": "https://localhost:8080/",
     "height": 288
    },
    "colab_type": "code",
    "id": "3XOtPFH8DorX",
    "outputId": "a4c29a45-c264-417c-c22c-4291ccf51a30"
   },
   "outputs": [],
   "source": [
    "# Find the number of customers each employee has supported\n",
    "pd.read_sql_query('''\n",
    "    SELECT e.FirstName, e.Title, COUNT(c.CustomerId) AS No_Customers \n",
    "    FROM employees AS e LEFT \n",
    "        JOIN customers AS c ON e.EmployeeId = c.SupportRepId\n",
    "    GROUP BY e.EmployeeId;\n",
    "''', conn)"
   ]
  },
  {
   "cell_type": "code",
   "execution_count": null,
   "metadata": {
    "colab": {
     "base_uri": "https://localhost:8080/",
     "height": 78
    },
    "colab_type": "code",
    "id": "DtMQ5OWpGXN8",
    "outputId": "d023f5da-29d1-4747-c485-dada93ba560c"
   },
   "outputs": [],
   "source": [
    "# Find the customer who paid the most\n",
    "pd.read_sql_query('''\n",
    "    SELECT c.FirstName, c.LastName, c.Country, SUM(i.Total) AS Total_Bill \n",
    "    FROM customers AS c INNER JOIN invoices AS i \n",
    "        ON c.CustomerId = i.CustomerId\n",
    "    GROUP BY c.CustomerId\n",
    "    ORDER BY Total_Bill DESC\n",
    "    LIMIT 1;\n",
    "''', conn)"
   ]
  },
  {
   "cell_type": "code",
   "execution_count": null,
   "metadata": {
    "colab": {
     "base_uri": "https://localhost:8080/",
     "height": 78
    },
    "colab_type": "code",
    "id": "qOFdo1XdQyCq",
    "outputId": "1360bee1-e694-496e-bee8-0b15ca394b20"
   },
   "outputs": [],
   "source": [
    "# Find the richest artist\n",
    "pd.read_sql_query('''\n",
    "    SELECT ar.Name, SUM(i.UnitPrice * i.Quantity) AS TotalIncome\n",
    "    FROM artists AS ar \n",
    "        JOIN albums AS al ON ar.ArtistId = al.ArtistId\n",
    "        JOIN tracks AS t ON t.AlbumId = al.AlbumId\n",
    "        JOIN invoice_items as i ON t.TrackId = i.TrackId\n",
    "    GROUP BY ar.ArtistId\n",
    "    ORDER BY TotalIncome DESC\n",
    "    LIMIT 1;\n",
    "''', conn)"
   ]
  },
  {
   "cell_type": "markdown",
   "metadata": {
    "colab_type": "text",
    "id": "0bNRYxjEAIYk"
   },
   "source": [
    "### Query order of execution\n",
    "\n",
    "Now that we have an idea of all the parts of a query, we can now talk about how they all fit together in the context of a complete query.\n",
    "\n",
    "1. **FROM** and **JOIN**\n",
    "2. **WHERE**\n",
    "3. **GROUP BY**\n",
    "4. **HAVING**\n",
    "5. **SELECT**\n",
    "6. **DISTINCT**\n",
    "7. **ORDER BY**\n",
    "8. **LIMIT** / **OFFSET**\n"
   ]
  },
  {
   "cell_type": "markdown",
   "metadata": {
    "colab_type": "text",
    "id": "9ihN0pi4A8cf"
   },
   "source": [
    "### Conclusion\n",
    "\n",
    "Not every query needs to have all the parts we listed above, but a part of why SQL is so flexible is that it allows developers and data analysts to quickly manipulate data without having to write additional code, all just by using the above clauses.\n",
    "\n",
    "Here ends our lessons on **SELECT** queries, congrats of making it this far! "
   ]
  }
 ],
 "metadata": {
  "colab": {
   "name": "Lab_1_Python_SQL_Solution.ipynb",
   "provenance": [],
   "version": "0.3.2"
  },
  "kernelspec": {
   "display_name": "Python 3",
   "language": "python",
   "name": "python3"
  },
  "language_info": {
   "codemirror_mode": {
    "name": "ipython",
    "version": 3
   },
   "file_extension": ".py",
   "mimetype": "text/x-python",
   "name": "python",
   "nbconvert_exporter": "python",
   "pygments_lexer": "ipython3",
   "version": "3.6.5"
  }
 },
 "nbformat": 4,
 "nbformat_minor": 1
}
