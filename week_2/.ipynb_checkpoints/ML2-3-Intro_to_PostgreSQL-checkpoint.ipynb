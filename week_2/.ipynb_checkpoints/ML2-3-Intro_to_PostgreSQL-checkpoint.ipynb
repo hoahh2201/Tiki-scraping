{
 "cells": [
  {
   "cell_type": "markdown",
   "metadata": {},
   "source": [
    "![](https://i.imgur.com/0AUxkXt.png)"
   ]
  },
  {
   "cell_type": "markdown",
   "metadata": {},
   "source": [
    "# Intro to PostgreSQL\n",
    "\n",
    "**PostgreSQL** is a powerful, open source object-relational database system that uses and extends the SQL language combined with many features that safely store and scale the most complicated data workloads.\n",
    "\n",
    "PostgreSQL comes with many features aimed to help developers build applications, administrators to protect data integrity and build fault-tolerant environments, and help you manage your data no matter how big or small the dataset. In addition to being free and open source, PostgreSQL is highly extensible."
   ]
  },
  {
   "cell_type": "markdown",
   "metadata": {},
   "source": [
    "## Connect to PostgreSQL database server\n",
    "\n",
    "Here below is a list of common `psql` commands that helps you work with PostgreSQL.\n",
    "\n",
    "### Connect to PostgreSQL database\n",
    "\n",
    "The following command connects to a database under a specific user. After pressing Enter PostgreSQL will ask for the password of the user.\n",
    "\n",
    "`psql -d dbname -U  username -W`\n",
    "\n",
    "If you want to connect to a database that resides on another host, you add the -h option as follows:\n",
    "\n",
    "`psql -h host -d database -U user -W`\n",
    "\n",
    "### Get help on psql commands\n",
    "\n",
    "To know all available psql commands, you use\n",
    "\n",
    "`\\?`\n",
    "\n",
    "To get help on specific PostgreSQL statement, you use (for example)\n",
    "\n",
    "`h ALTER TABLE`\n",
    "\n",
    "### Switch connection to a new database\n",
    "\n",
    "Once you are connected to a database, you can switch the connection to a new database\n",
    "\n",
    "`\\c dbname username`\n",
    "\n",
    "### List available databases\n",
    "\n",
    "To list all databases in the current PostgreSQL database server, you use\n",
    "\n",
    "`\\l`\n",
    "\n",
    "### List available tables\n",
    "\n",
    "To list all tables in the current database, you use\n",
    "\n",
    "`\\dt`\n",
    "\n",
    "### Describe a table\n",
    "\n",
    "To describe a table such as a column, type, modifiers of columns, etc., you use\n",
    "\n",
    "`\\d tablename`\n",
    "\n",
    "### List users and their roles\n",
    "\n",
    "To list all users and their assign roles, you use\n",
    "\n",
    "`\\du`\n",
    "\n",
    "### Turn on query execution time\n",
    "\n",
    "To turn on query execution time, you use\n",
    "\n",
    "`\\timing`\n",
    "\n",
    "You use the same command `\\timing` to turn it off.\n",
    "\n",
    "### Edit command in your own editor\n",
    "\n",
    "It is very handy if you can type the command in your favorite editor. To do this in psql, you use\n",
    "\n",
    "`\\e`\n",
    "\n",
    "### Switch output options\n",
    "\n",
    "`psql` supports some types of output format and allows you to customize how the output is formatted on the fly.\n",
    "\n",
    "* `\\a` command switches from aligned to non-aligned column output.\n",
    "* `\\H` command formats the output to HTML format.\n",
    "\n",
    "### Quit psql\n",
    "\n",
    "To quit psql, you use\n",
    "\n",
    "`\\q`"
   ]
  },
  {
   "cell_type": "markdown",
   "metadata": {},
   "source": [
    "## Connecting to Postgres from Python\n",
    "\n",
    "In Python, there is an open source library called [psycopg2](http://initd.org/psycopg/) that implements the Postgres protocol to connect to our Postgres server. You can think of psycopg2 being similar to connecting to a SQLite database using the [sqlite3](https://docs.python.org/3.5/library/sqlite3.html) library.\n",
    "\n",
    "To connect to a database using psycopg2 we would do the following:"
   ]
  },
  {
   "cell_type": "code",
   "execution_count": 4,
   "metadata": {
    "scrolled": true
   },
   "outputs": [
    {
     "name": "stdout",
     "output_type": "stream",
     "text": [
      "<connection object at 0x108b1beb8; dsn: 'dbname=CoderTicket_development user=minhdh', closed: 0>\n"
     ]
    }
   ],
   "source": [
    "import psycopg2\n",
    "conn = psycopg2.connect(\"dbname=CoderTicket_development user=minhdh\")\n",
    "print(conn)\n",
    "conn.close()"
   ]
  },
  {
   "cell_type": "markdown",
   "metadata": {},
   "source": [
    "Because of the multiple connections, Postgres uses multiple users and databases as a way to improve security and division of data. Without those values attached, Postgres will not know where you would like to connect to and will fail.\n",
    "\n",
    "The connect() method takes in a sequence of parameters that the library uses to connect to the Postgres server. The return value of the connect() method is a Connection object.\n",
    "\n",
    "The connection object creates a client session with the database server that instantiates a persistent client to speak with. To issue commands against the database, you will also need to create a Cursor object using the Connection object. The Cursor object is the object we will use to execute our commands."
   ]
  },
  {
   "cell_type": "code",
   "execution_count": 6,
   "metadata": {},
   "outputs": [
    {
     "name": "stdout",
     "output_type": "stream",
     "text": [
      "[(1, 'Ho Chi Minh', datetime.datetime(2017, 7, 3, 3, 30, 35, 719482), datetime.datetime(2017, 7, 3, 3, 30, 35, 719482)), (2, 'Ha Noi', datetime.datetime(2017, 7, 3, 3, 30, 35, 722562), datetime.datetime(2017, 7, 3, 3, 30, 35, 722562)), (3, 'Binh Thuan', datetime.datetime(2017, 7, 3, 3, 30, 35, 725470), datetime.datetime(2017, 7, 3, 3, 30, 35, 725470)), (4, 'Da Nang', datetime.datetime(2017, 7, 3, 3, 30, 35, 728589), datetime.datetime(2017, 7, 3, 3, 30, 35, 728589)), (5, 'Lam Dong', datetime.datetime(2017, 7, 3, 3, 30, 35, 731603), datetime.datetime(2017, 7, 3, 3, 30, 35, 731603))]\n"
     ]
    }
   ],
   "source": [
    "conn = psycopg2.connect(\"dbname=CoderTicket_development user=minhdh\")\n",
    "cur = conn.cursor()\n",
    "cur.execute('SELECT * FROM regions')\n",
    "notes = cur.fetchall()\n",
    "print(notes)\n",
    "conn.close()"
   ]
  },
  {
   "cell_type": "markdown",
   "metadata": {},
   "source": [
    "## Summary\n",
    "\n",
    "* Connecting to a database using psycopg2:\n",
    "\n",
    "```\n",
    "import psycopg2\n",
    "conn = psycopg2.connect(\"dbname=postgres user=postgres\")\n",
    "```\n",
    "\n",
    "* Creating a table:\n",
    "\n",
    "```\n",
    "CREATE TABLE tableName(\n",
    "   column1 dataType1 PRIMARY KEY,\n",
    "   column2 dataType2,\n",
    "   column3 dataType3,\n",
    "   ...\n",
    ");\n",
    "```\n",
    "\n",
    "* Dropping a table from a database:\n",
    "\n",
    "```\n",
    "DROP TABLE tableName\n",
    "```\n",
    "Or\n",
    "```\n",
    "DROP TABLE IF EXISTS tableName\n",
    "```\n",
    "\n",
    "* Inserting values using psycopg2:\n",
    "\n",
    "```\n",
    "import psycopg2\n",
    "conn = psycopg2.connect(\"dbname=dq user=dq\")\n",
    "cur = conn.cursor()\n",
    "insert_query = \"INSERT INTO users VALUES {}\".format(\"(10, 'hello@dataquest.io', 'Some Name', '123 Fake St.')\")\n",
    "cur.execute(insert_query)\n",
    "conn.commit()\n",
    "```\n",
    "Or\n",
    "```\n",
    "import psycopg2\n",
    "conn = psycopg2.connect(\"dbname=dq user=dq\")\n",
    "cur = conn.cursor()\n",
    "cur.execute(\"INSERT INTO users VALUES (%s, %s, %s, %s)\", (10, 'hello@dataquest.io', 'Some Name', '123 Fake St.'))\n",
    "conn.commit()\n",
    "```\n",
    "\n",
    "* Deleting data from a table:\n",
    "\n",
    "```\n",
    "DELETE from tableName\n",
    "```\n",
    "\n",
    "* Loading in a file using psycopg2:\n",
    "\n",
    "```\n",
    "conn = psycopg2.connect('dbname=postgres user=postgres')\n",
    "cur = conn.cursor()\n",
    " # sample_file.csv has a header row.\n",
    "with open('sample_file.csv', 'r') as f:\n",
    "    # Skip the header row.\n",
    "    next(f)\n",
    "    cur.copy_from(f, 'sample_table', sep=',')\n",
    "```\n",
    "\n",
    "* Returning the first result:\n",
    "\n",
    "```\n",
    "cur.fetchone()\n",
    "```\n",
    "\n",
    "* Returning each row in a table:\n",
    "\n",
    "```\n",
    "cur.fetchall()\n",
    "\n",
    "```\n",
    "\n"
   ]
  },
  {
   "cell_type": "code",
   "execution_count": null,
   "metadata": {},
   "outputs": [],
   "source": []
  }
 ],
 "metadata": {
  "kernelspec": {
   "display_name": "Python 3",
   "language": "python",
   "name": "python3"
  },
  "language_info": {
   "codemirror_mode": {
    "name": "ipython",
    "version": 3
   },
   "file_extension": ".py",
   "mimetype": "text/x-python",
   "name": "python",
   "nbconvert_exporter": "python",
   "pygments_lexer": "ipython3",
   "version": "3.6.5"
  }
 },
 "nbformat": 4,
 "nbformat_minor": 2
}
